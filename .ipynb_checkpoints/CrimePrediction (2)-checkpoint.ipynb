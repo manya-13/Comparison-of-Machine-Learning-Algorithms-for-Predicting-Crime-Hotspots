{
 "cells": [
  {
   "cell_type": "code",
   "execution_count": 1,
   "metadata": {
    "id": "xAgfPi9idp1x"
   },
   "outputs": [],
   "source": [
    "import pandas as pd\n",
    "import numpy as np\n",
    "import matplotlib.pyplot as plt\n",
    "import seaborn as sns\n",
    "%matplotlib inline\n",
    "import warnings\n",
    "warnings.filterwarnings('ignore')"
   ]
  },
  {
   "cell_type": "code",
   "execution_count": 2,
   "metadata": {
    "id": "dvTB-q4xdp14"
   },
   "outputs": [],
   "source": [
    "data=pd.read_csv('crime_data.csv')"
   ]
  },
  {
   "cell_type": "code",
   "execution_count": 3,
   "metadata": {
    "id": "2e9tygtmdp17",
    "outputId": "052159b4-c29b-46c6-f191-53334d1f1b3a"
   },
   "outputs": [
    {
     "data": {
      "text/html": [
       "<div>\n",
       "<style scoped>\n",
       "    .dataframe tbody tr th:only-of-type {\n",
       "        vertical-align: middle;\n",
       "    }\n",
       "\n",
       "    .dataframe tbody tr th {\n",
       "        vertical-align: top;\n",
       "    }\n",
       "\n",
       "    .dataframe thead th {\n",
       "        text-align: right;\n",
       "    }\n",
       "</style>\n",
       "<table border=\"1\" class=\"dataframe\">\n",
       "  <thead>\n",
       "    <tr style=\"text-align: right;\">\n",
       "      <th></th>\n",
       "      <th>timestamp</th>\n",
       "      <th>act379</th>\n",
       "      <th>act13</th>\n",
       "      <th>act279</th>\n",
       "      <th>act323</th>\n",
       "      <th>act363</th>\n",
       "      <th>act302</th>\n",
       "      <th>latitude</th>\n",
       "      <th>longitude</th>\n",
       "    </tr>\n",
       "  </thead>\n",
       "  <tbody>\n",
       "    <tr>\n",
       "      <th>0</th>\n",
       "      <td>28-02-2018 21:00</td>\n",
       "      <td>1</td>\n",
       "      <td>0</td>\n",
       "      <td>0</td>\n",
       "      <td>0</td>\n",
       "      <td>0</td>\n",
       "      <td>0</td>\n",
       "      <td>22.737260</td>\n",
       "      <td>75.875987</td>\n",
       "    </tr>\n",
       "    <tr>\n",
       "      <th>1</th>\n",
       "      <td>28-02-2018 21:15</td>\n",
       "      <td>1</td>\n",
       "      <td>0</td>\n",
       "      <td>0</td>\n",
       "      <td>0</td>\n",
       "      <td>0</td>\n",
       "      <td>0</td>\n",
       "      <td>22.720992</td>\n",
       "      <td>75.876083</td>\n",
       "    </tr>\n",
       "    <tr>\n",
       "      <th>2</th>\n",
       "      <td>28-02-2018 10:15</td>\n",
       "      <td>0</td>\n",
       "      <td>0</td>\n",
       "      <td>1</td>\n",
       "      <td>0</td>\n",
       "      <td>0</td>\n",
       "      <td>0</td>\n",
       "      <td>22.736676</td>\n",
       "      <td>75.883168</td>\n",
       "    </tr>\n",
       "    <tr>\n",
       "      <th>3</th>\n",
       "      <td>28-02-2018 10:15</td>\n",
       "      <td>0</td>\n",
       "      <td>0</td>\n",
       "      <td>1</td>\n",
       "      <td>0</td>\n",
       "      <td>0</td>\n",
       "      <td>0</td>\n",
       "      <td>22.746527</td>\n",
       "      <td>75.887139</td>\n",
       "    </tr>\n",
       "    <tr>\n",
       "      <th>4</th>\n",
       "      <td>28-02-2018 10:30</td>\n",
       "      <td>0</td>\n",
       "      <td>0</td>\n",
       "      <td>1</td>\n",
       "      <td>0</td>\n",
       "      <td>0</td>\n",
       "      <td>0</td>\n",
       "      <td>22.769531</td>\n",
       "      <td>75.888772</td>\n",
       "    </tr>\n",
       "    <tr>\n",
       "      <th>5</th>\n",
       "      <td>28-02-2018 14:15</td>\n",
       "      <td>0</td>\n",
       "      <td>0</td>\n",
       "      <td>0</td>\n",
       "      <td>1</td>\n",
       "      <td>0</td>\n",
       "      <td>0</td>\n",
       "      <td>22.735218</td>\n",
       "      <td>75.913366</td>\n",
       "    </tr>\n",
       "    <tr>\n",
       "      <th>6</th>\n",
       "      <td>28-02-2018 08:00</td>\n",
       "      <td>0</td>\n",
       "      <td>0</td>\n",
       "      <td>0</td>\n",
       "      <td>0</td>\n",
       "      <td>1</td>\n",
       "      <td>0</td>\n",
       "      <td>22.736766</td>\n",
       "      <td>75.908579</td>\n",
       "    </tr>\n",
       "  </tbody>\n",
       "</table>\n",
       "</div>"
      ],
      "text/plain": [
       "          timestamp  act379  act13  act279  act323  act363  act302   latitude  \\\n",
       "0  28-02-2018 21:00       1      0       0       0       0       0  22.737260   \n",
       "1  28-02-2018 21:15       1      0       0       0       0       0  22.720992   \n",
       "2  28-02-2018 10:15       0      0       1       0       0       0  22.736676   \n",
       "3  28-02-2018 10:15       0      0       1       0       0       0  22.746527   \n",
       "4  28-02-2018 10:30       0      0       1       0       0       0  22.769531   \n",
       "5  28-02-2018 14:15       0      0       0       1       0       0  22.735218   \n",
       "6  28-02-2018 08:00       0      0       0       0       1       0  22.736766   \n",
       "\n",
       "   longitude  \n",
       "0  75.875987  \n",
       "1  75.876083  \n",
       "2  75.883168  \n",
       "3  75.887139  \n",
       "4  75.888772  \n",
       "5  75.913366  \n",
       "6  75.908579  "
      ]
     },
     "execution_count": 3,
     "metadata": {},
     "output_type": "execute_result"
    }
   ],
   "source": [
    "data.head(7)"
   ]
  },
  {
   "cell_type": "code",
   "execution_count": 4,
   "metadata": {},
   "outputs": [
    {
     "data": {
      "text/plain": [
       "(2090, 9)"
      ]
     },
     "execution_count": 4,
     "metadata": {},
     "output_type": "execute_result"
    }
   ],
   "source": [
    "data.shape"
   ]
  },
  {
   "cell_type": "markdown",
   "metadata": {
    "id": "8sr1CafSdp19"
   },
   "source": [
    " Act 379-Robbery\n",
    "\n",
    " Act 13-Gambling\n",
    "\n",
    " Act 279-Accident\n",
    "\n",
    " Act 323-Violence\n",
    "\n",
    " Act 302-Murder\n",
    "\n",
    " Act 363-Kidnapping"
   ]
  },
  {
   "cell_type": "code",
   "execution_count": 5,
   "metadata": {
    "id": "HbCdtK0zdp2A",
    "outputId": "987a3cb5-fbf0-425d-ff0a-fd43b2a48c23"
   },
   "outputs": [
    {
     "name": "stdout",
     "output_type": "stream",
     "text": [
      "<class 'pandas.core.frame.DataFrame'>\n",
      "RangeIndex: 2090 entries, 0 to 2089\n",
      "Data columns (total 9 columns):\n",
      " #   Column     Non-Null Count  Dtype  \n",
      "---  ------     --------------  -----  \n",
      " 0   timestamp  2090 non-null   object \n",
      " 1   act379     2090 non-null   int64  \n",
      " 2   act13      2090 non-null   int64  \n",
      " 3   act279     2090 non-null   int64  \n",
      " 4   act323     2090 non-null   int64  \n",
      " 5   act363     2090 non-null   int64  \n",
      " 6   act302     2090 non-null   int64  \n",
      " 7   latitude   2090 non-null   float64\n",
      " 8   longitude  2090 non-null   float64\n",
      "dtypes: float64(2), int64(6), object(1)\n",
      "memory usage: 147.1+ KB\n"
     ]
    }
   ],
   "source": [
    "data.info()"
   ]
  },
  {
   "cell_type": "code",
   "execution_count": 6,
   "metadata": {
    "id": "3U8QwlLLdp2B"
   },
   "outputs": [],
   "source": [
    "data['timestamp'] = pd.to_datetime(data['timestamp'], errors='coerce')"
   ]
  },
  {
   "cell_type": "code",
   "execution_count": 7,
   "metadata": {
    "id": "HA7jZsCqdp2C",
    "scrolled": true
   },
   "outputs": [],
   "source": [
    "data['timestamp'] = pd.to_datetime(data['timestamp'], format = '%d/%m/%Y %H:%M:%S')"
   ]
  },
  {
   "cell_type": "code",
   "execution_count": 8,
   "metadata": {
    "id": "wrySoHjtdp2D",
    "outputId": "ebbec023-73bf-47c7-d434-db385676ad8f"
   },
   "outputs": [
    {
     "data": {
      "text/plain": [
       "0      2018-02-28 21:00:00\n",
       "1      2018-02-28 21:15:00\n",
       "2      2018-02-28 10:15:00\n",
       "3      2018-02-28 10:15:00\n",
       "4      2018-02-28 10:30:00\n",
       "               ...        \n",
       "2085   2018-07-03 03:50:00\n",
       "2086   2018-07-03 21:10:00\n",
       "2087   2018-07-03 12:10:00\n",
       "2088   2018-07-03 10:35:00\n",
       "2089   2018-07-03 23:45:00\n",
       "Name: timestamp, Length: 2090, dtype: datetime64[ns]"
      ]
     },
     "execution_count": 8,
     "metadata": {},
     "output_type": "execute_result"
    }
   ],
   "source": [
    "data['timestamp']"
   ]
  },
  {
   "cell_type": "code",
   "execution_count": 9,
   "metadata": {
    "id": "hYJP6C1Kdp2E",
    "outputId": "edb13963-bf14-423c-8e1d-6ede0ab884b4"
   },
   "outputs": [],
   "source": [
    "# DATE TIME STAMP FUNCTION\n",
    "column_1 = data.iloc[:,0]\n",
    "\n",
    "db=pd.DataFrame({\"year\": column_1.dt.year,\n",
    "              \"month\": column_1.dt.month,\n",
    "              \"day\": column_1.dt.day,\n",
    "              \"hour\": column_1.dt.hour,\n",
    "              \"dayofyear\": column_1.dt.dayofyear,\n",
    "              \"week\": column_1.dt.week,\n",
    "              \"weekofyear\": column_1.dt.weekofyear,\n",
    "              \"dayofweek\": column_1.dt.dayofweek,\n",
    "              \"weekday\": column_1.dt.weekday,\n",
    "              \"quarter\": column_1.dt.quarter,\n",
    "             })"
   ]
  },
  {
   "cell_type": "code",
   "execution_count": 10,
   "metadata": {
    "id": "Uq7pNzqYdp2F"
   },
   "outputs": [
    {
     "ename": "NameError",
     "evalue": "name 'dataset' is not defined",
     "output_type": "error",
     "traceback": [
      "\u001b[1;31m---------------------------------------------------------------------------\u001b[0m",
      "\u001b[1;31mNameError\u001b[0m                                 Traceback (most recent call last)",
      "\u001b[1;32m~\\AppData\\Local\\Temp\\ipykernel_7740\\2753219363.py\u001b[0m in \u001b[0;36m<module>\u001b[1;34m\u001b[0m\n\u001b[1;32m----> 1\u001b[1;33m \u001b[0mdataset1\u001b[0m\u001b[1;33m=\u001b[0m\u001b[0mdataset\u001b[0m\u001b[1;33m.\u001b[0m\u001b[0mdrop\u001b[0m\u001b[1;33m(\u001b[0m\u001b[1;34m'timestamp'\u001b[0m\u001b[1;33m,\u001b[0m\u001b[0maxis\u001b[0m\u001b[1;33m=\u001b[0m\u001b[1;36m1\u001b[0m\u001b[1;33m)\u001b[0m\u001b[1;33m\u001b[0m\u001b[1;33m\u001b[0m\u001b[0m\n\u001b[0m",
      "\u001b[1;31mNameError\u001b[0m: name 'dataset' is not defined"
     ]
    }
   ],
   "source": [
    "dataset1=dataset.drop('timestamp',axis=1)"
   ]
  },
  {
   "cell_type": "code",
   "execution_count": null,
   "metadata": {
    "id": "HZdrqSGydp2G",
    "outputId": "592e4345-062b-4fa3-bbf2-a16ddc784d2d"
   },
   "outputs": [],
   "source": [
    "data1=pd.concat([db,dataset1],axis=1)\n",
    "data1"
   ]
  },
  {
   "cell_type": "code",
   "execution_count": null,
   "metadata": {},
   "outputs": [],
   "source": [
    "data1.shape"
   ]
  },
  {
   "cell_type": "markdown",
   "metadata": {
    "id": "edHWgdvbdp2H"
   },
   "source": [
    "## Data Analysis"
   ]
  },
  {
   "cell_type": "code",
   "execution_count": null,
   "metadata": {
    "id": "WDUbRI1mdp2H",
    "outputId": "f4fac264-00a6-4d85-87b2-72db80c2a9ef",
    "scrolled": false
   },
   "outputs": [],
   "source": [
    "data1.info()"
   ]
  },
  {
   "cell_type": "code",
   "execution_count": null,
   "metadata": {},
   "outputs": [],
   "source": [
    "data1.isnull().sum()"
   ]
  },
  {
   "cell_type": "code",
   "execution_count": null,
   "metadata": {
    "id": "truW4pr_dp2I"
   },
   "outputs": [],
   "source": [
    "data1.dropna(inplace=True)"
   ]
  },
  {
   "cell_type": "code",
   "execution_count": null,
   "metadata": {},
   "outputs": [],
   "source": [
    "data1.isnull().sum()"
   ]
  },
  {
   "cell_type": "code",
   "execution_count": null,
   "metadata": {
    "id": "xQnXtOmpdp2I",
    "outputId": "0b0d855e-8bee-4258-f011-a87e2b9838d3"
   },
   "outputs": [],
   "source": [
    "data1.head()"
   ]
  },
  {
   "cell_type": "code",
   "execution_count": null,
   "metadata": {
    "id": "pXrBIdMndp2J",
    "outputId": "6b62b328-619a-4f96-d7ce-1070cff3f48a"
   },
   "outputs": [],
   "source": [
    "data1.columns[1]"
   ]
  },
  {
   "cell_type": "markdown",
   "metadata": {
    "id": "OFkdEJnqdp2J"
   },
   "source": [
    "## Data Visualization & Analysis"
   ]
  },
  {
   "cell_type": "code",
   "execution_count": null,
   "metadata": {
    "id": "fpp1R7lAdp2K",
    "outputId": "cc0a2915-4956-45a9-8a7b-3b10698389d8",
    "scrolled": true
   },
   "outputs": [],
   "source": [
    "sns.pairplot(data1,hue='act363')"
   ]
  },
  {
   "cell_type": "code",
   "execution_count": null,
   "metadata": {
    "id": "hwJL_KC-dp2K"
   },
   "outputs": [],
   "source": [
    "df1 = pd.DataFrame(data=data1, columns=['act13', 'act323', 'act379'])"
   ]
  },
  {
   "cell_type": "code",
   "execution_count": null,
   "metadata": {
    "id": "xXktOVOKdp2L",
    "outputId": "b25a6afb-a0b7-491b-ce62-c01ec3468218"
   },
   "outputs": [],
   "source": [
    "df1.plot.kde()\n",
    "plt.show()"
   ]
  },
  {
   "cell_type": "markdown",
   "metadata": {
    "id": "sz6ATAh1dp2M"
   },
   "source": [
    "## X & Y array"
   ]
  },
  {
   "cell_type": "code",
   "execution_count": null,
   "metadata": {},
   "outputs": [],
   "source": [
    "data1.head()"
   ]
  },
  {
   "cell_type": "code",
   "execution_count": null,
   "metadata": {},
   "outputs": [],
   "source": [
    "data1.shape"
   ]
  },
  {
   "cell_type": "code",
   "execution_count": null,
   "metadata": {
    "id": "IA1KLQIDdp2M"
   },
   "outputs": [],
   "source": [
    "X=data1.iloc[:,[1,2,3,4,6,16,17]].values\n",
    "#month,day,hour,dayofyear,weekofyear,latitude,longitude"
   ]
  },
  {
   "cell_type": "code",
   "execution_count": null,
   "metadata": {
    "id": "vtE2wQGTdp2M",
    "outputId": "087c9eb1-72fb-44f6-b33e-24208ad44459"
   },
   "outputs": [],
   "source": [
    "X"
   ]
  },
  {
   "cell_type": "code",
   "execution_count": null,
   "metadata": {
    "id": "SZZgAGWPdp2N"
   },
   "outputs": [],
   "source": [
    "y=data1.iloc[:,[10,11,12,13,14,15]].values\n",
    "#act379\tact13\tact279\tact323\tact363\tact302"
   ]
  },
  {
   "cell_type": "code",
   "execution_count": null,
   "metadata": {
    "id": "BSSu4vkddp2N",
    "outputId": "07087b04-e0b0-41cf-ad0c-2bbf049abae8"
   },
   "outputs": [],
   "source": [
    "y"
   ]
  },
  {
   "cell_type": "code",
   "execution_count": null,
   "metadata": {
    "id": "DDpGRP92dp2N"
   },
   "outputs": [],
   "source": [
    "## Splitting the data"
   ]
  },
  {
   "cell_type": "code",
   "execution_count": null,
   "metadata": {
    "id": "oO8h4oaLdp2O"
   },
   "outputs": [],
   "source": [
    "from sklearn.model_selection import train_test_split"
   ]
  },
  {
   "cell_type": "code",
   "execution_count": null,
   "metadata": {
    "id": "bGDYkzFVdp2O"
   },
   "outputs": [],
   "source": [
    "X_train, X_test, y_train, y_test = train_test_split(X, y, test_size=0.2, random_state=50)"
   ]
  },
  {
   "cell_type": "code",
   "execution_count": null,
   "metadata": {},
   "outputs": [],
   "source": [
    "X_train.shape"
   ]
  },
  {
   "cell_type": "code",
   "execution_count": null,
   "metadata": {},
   "outputs": [],
   "source": [
    "X_test.shape"
   ]
  },
  {
   "cell_type": "markdown",
   "metadata": {
    "id": "cPDyGJrFdp2O"
   },
   "source": [
    "## Creating & Training KNN Model"
   ]
  },
  {
   "cell_type": "code",
   "execution_count": null,
   "metadata": {
    "id": "QXRbhEXrdp2P",
    "outputId": "0ee7de0d-8d79-485d-923a-d59bf5775c6e",
    "scrolled": true
   },
   "outputs": [],
   "source": [
    "from sklearn.neighbors import KNeighborsClassifier\n",
    "knn = KNeighborsClassifier(n_neighbors=10)\n",
    "knn.fit(X_train,y_train)"
   ]
  },
  {
   "cell_type": "code",
   "execution_count": null,
   "metadata": {
    "id": "k0Fr7S1Qdp2P",
    "outputId": "07eecf28-7142-40e6-eec3-52fb302c0f2c"
   },
   "outputs": [],
   "source": [
    "acc1=knn.score(X_test,y_test)\n",
    "acc1"
   ]
  },
  {
   "cell_type": "code",
   "execution_count": null,
   "metadata": {
    "id": "OH8rTGZjdp2Q",
    "outputId": "084c94cf-79d3-49d3-ac09-9e1f9918eb4b"
   },
   "outputs": [],
   "source": [
    "knn.score(X_train,y_train)"
   ]
  },
  {
   "cell_type": "markdown",
   "metadata": {
    "id": "UCys5juMdp2Q"
   },
   "source": [
    "## Creating & Training Decision Tree Model"
   ]
  },
  {
   "cell_type": "code",
   "execution_count": null,
   "metadata": {
    "id": "4iO1Z7-edp2R"
   },
   "outputs": [],
   "source": [
    "from sklearn.tree import DecisionTreeClassifier\n",
    "dtree = DecisionTreeClassifier(max_depth=500, random_state=300)"
   ]
  },
  {
   "cell_type": "code",
   "execution_count": null,
   "metadata": {
    "id": "jtw5XTA3dp2R",
    "outputId": "4ef6c295-216e-4eb4-80b7-b10d77a2b06a"
   },
   "outputs": [],
   "source": [
    "dtree.fit(X_train,y_train)"
   ]
  },
  {
   "cell_type": "code",
   "execution_count": null,
   "metadata": {
    "id": "ucBLHPRNdp2S"
   },
   "outputs": [],
   "source": [
    "y_pred=dtree.predict(X_test)"
   ]
  },
  {
   "cell_type": "code",
   "execution_count": null,
   "metadata": {
    "id": "Go7SGtLYdp2S",
    "outputId": "8ae34c62-7876-45a6-b0bc-35ee5f7e8963",
    "scrolled": true
   },
   "outputs": [],
   "source": [
    "acc2=dtree.score(X_test,y_test)\n",
    "acc2"
   ]
  },
  {
   "cell_type": "code",
   "execution_count": null,
   "metadata": {
    "id": "7I0MQa0wdp2S",
    "outputId": "356377d4-58f9-466c-94e0-aac49e6cb10e"
   },
   "outputs": [],
   "source": [
    "dtree.score(X_train,y_train)"
   ]
  },
  {
   "cell_type": "code",
   "execution_count": null,
   "metadata": {
    "id": "m0lOtgqldp2T",
    "outputId": "f169eaf4-d6ee-4ef0-922b-23e0e26ee8cc",
    "scrolled": true
   },
   "outputs": [],
   "source": [
    "y_pred"
   ]
  },
  {
   "cell_type": "markdown",
   "metadata": {
    "id": "YrSUSmpmdp2T"
   },
   "source": [
    "## Creating & Training Random Tree Model"
   ]
  },
  {
   "cell_type": "code",
   "execution_count": null,
   "metadata": {
    "id": "ZV0PXph7dp2T",
    "outputId": "31afea90-0fbf-4dfd-d3f8-6eefb013bfc4",
    "scrolled": true
   },
   "outputs": [],
   "source": [
    "from sklearn.ensemble import RandomForestClassifier\n",
    "rfc = RandomForestClassifier(n_estimators=100)\n",
    "rfc.fit(X_train, y_train)"
   ]
  },
  {
   "cell_type": "code",
   "execution_count": null,
   "metadata": {
    "id": "2KV6kMABdp2T"
   },
   "outputs": [],
   "source": [
    "y_pred=rfc.predict(X_test)"
   ]
  },
  {
   "cell_type": "code",
   "execution_count": null,
   "metadata": {
    "id": "gPnJ43oHdp2U",
    "outputId": "aaca2325-943f-4a1a-be4e-1cb447434af0"
   },
   "outputs": [],
   "source": [
    "X_test[0]"
   ]
  },
  {
   "cell_type": "code",
   "execution_count": null,
   "metadata": {
    "id": "DcfOsawCdp2U",
    "outputId": "d370a7f6-c777-4c24-dba6-b2634cdf6755"
   },
   "outputs": [],
   "source": [
    "y_pred"
   ]
  },
  {
   "cell_type": "code",
   "execution_count": null,
   "metadata": {
    "id": "pM6kDvWGdp2U",
    "outputId": "6343e515-a1f7-474f-c12d-52fdfc00531e",
    "scrolled": true
   },
   "outputs": [],
   "source": [
    "acc3=rfc.score(X_test,y_test)\n",
    "acc3"
   ]
  },
  {
   "cell_type": "code",
   "execution_count": null,
   "metadata": {
    "id": "oUI18F_Adp2V",
    "outputId": "9b3ffecf-3e76-41da-c18c-c2788d949733"
   },
   "outputs": [],
   "source": [
    "rfc.score(X_train,y_train)"
   ]
  },
  {
   "cell_type": "markdown",
   "metadata": {
    "id": "HyJDpi21dp2V"
   },
   "source": [
    "# Prediction"
   ]
  },
  {
   "cell_type": "code",
   "execution_count": null,
   "metadata": {
    "id": "a4mEqddQdp2V",
    "outputId": "6fdb2412-1f0a-4441-fbf1-54a7a6a5f249"
   },
   "outputs": [],
   "source": [
    "test_vector = np.reshape(np.asarray([2., 28., 15., 59. ,  9. , 22.723873,75.828416]),(1,7))\n",
    "p =np.array(rfc.predict(test_vector)[0])\n",
    "\n",
    "print(p)\n",
    "\n",
    "label = ['Robbery','Gambling','Accident','Violence','Kidnapping','Murder']\n",
    "print (label[3])"
   ]
  },
  {
   "cell_type": "code",
   "execution_count": null,
   "metadata": {
    "id": "Cw58_oPFdp2W",
    "outputId": "091aa52d-a69c-4313-fcf7-deb1a7e19542"
   },
   "outputs": [],
   "source": [
    "import matplotlib.pyplot as plt; plt.rcdefaults()\n",
    "import numpy as np\n",
    "import matplotlib.pyplot as plt\n",
    " \n",
    "objects = ('KNN','DecisionTree','RF')\n",
    "y_pos = np.arange(len(objects))\n",
    "performance = [acc1,acc2,acc3]\n",
    " \n",
    "plt.bar(y_pos, performance, align='center', alpha=0.5)\n",
    "plt.xticks(y_pos, objects)\n",
    "plt.ylabel('Accuracy Level')\n",
    "plt.title('Accuracy of Algorithms')\n",
    " \n",
    "plt.show()"
   ]
  },
  {
   "cell_type": "code",
   "execution_count": null,
   "metadata": {},
   "outputs": [],
   "source": []
  }
 ],
 "metadata": {
  "anaconda-cloud": {},
  "colab": {
   "provenance": []
  },
  "kernelspec": {
   "display_name": "Python 3 (ipykernel)",
   "language": "python",
   "name": "python3"
  },
  "language_info": {
   "codemirror_mode": {
    "name": "ipython",
    "version": 3
   },
   "file_extension": ".py",
   "mimetype": "text/x-python",
   "name": "python",
   "nbconvert_exporter": "python",
   "pygments_lexer": "ipython3",
   "version": "3.9.13"
  }
 },
 "nbformat": 4,
 "nbformat_minor": 1
}
